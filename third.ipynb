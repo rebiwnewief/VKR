{
 "cells": [
  {
   "cell_type": "code",
   "execution_count": 3,
   "metadata": {},
   "outputs": [],
   "source": [
    "import pandas as pd\n",
    "import numpy as np"
   ]
  },
  {
   "cell_type": "code",
   "execution_count": 4,
   "metadata": {},
   "outputs": [],
   "source": [
    "data = pd.read_csv('sessions_data.csv')"
   ]
  },
  {
   "cell_type": "code",
   "execution_count": 5,
   "metadata": {},
   "outputs": [],
   "source": [
    "data['begin_date'] = data.begin_date.str.slice(stop=19)"
   ]
  },
  {
   "cell_type": "code",
   "execution_count": 6,
   "metadata": {},
   "outputs": [],
   "source": [
    "data['begin_date'] = pd.to_datetime(data['begin_date'], format = '%Y-%m-%d %H:%M:%S')"
   ]
  },
  {
   "cell_type": "code",
   "execution_count": 5,
   "metadata": {},
   "outputs": [],
   "source": [
    "names = data['client_id'].unique()"
   ]
  },
  {
   "cell_type": "code",
   "execution_count": 8,
   "metadata": {},
   "outputs": [],
   "source": [
    "names = data['client_id'].unique()\n",
    "#last = dict(zip(data['client_id'].unique(), [0]*len(data['client_id'].unique())))\n",
    "#source = dict(zip(data['source'].unique(), [0]*len(data['source'].unique())))\n",
    "chains = []\n",
    "\n",
    "for name in names:\n",
    "    #cur = 'start'\n",
    "    session = data[data['client_id'] == name].sort_values(by = 'begin_date')\n",
    "    if not session[session['is_call'] == 1].empty:\n",
    "        split_date = session[session['is_call'] == 1]['begin_date']\n",
    "        for i in split_date:\n",
    "            val = session[session['begin_date'] <= i]['source'].values\n",
    "            chains.append(np.insert(val, len(val), 1))\n",
    "    chains.append(np.insert(session['source'].values, len(session), 0))"
   ]
  },
  {
   "cell_type": "code",
   "execution_count": 7,
   "metadata": {},
   "outputs": [],
   "source": [
    "import pickle "
   ]
  },
  {
   "cell_type": "code",
   "execution_count": 9,
   "metadata": {},
   "outputs": [],
   "source": [
    "with open('chains.pickle', 'wb') as f:\n",
    "    pickle.dump(chains, f)"
   ]
  },
  {
   "cell_type": "code",
   "execution_count": 8,
   "metadata": {},
   "outputs": [],
   "source": [
    "with open('chains.pickle', 'rb') as f:\n",
    "    chains = pickle.load(f)"
   ]
  },
  {
   "cell_type": "code",
   "execution_count": 24,
   "metadata": {},
   "outputs": [],
   "source": [
    "Vold = 0\n",
    "for i in chains:\n",
    "    Vold = Vold + len(i) - 1"
   ]
  },
  {
   "cell_type": "code",
   "execution_count": 91,
   "metadata": {},
   "outputs": [],
   "source": [
    "unq_source = data['source'].unique()\n",
    "dic = dict(zip(unq_source, [0]*len(unq_source)))\n",
    "for sor in unq_source:\n",
    "    for one_chain in chains:\n",
    "        res = np.where(one_chain == sor)[0]\n",
    "        if res.size != 0:\n",
    "            dic[sor] = dic[sor] + res[0] - min(1, res[0])"
   ]
  },
  {
   "cell_type": "code",
   "execution_count": 93,
   "metadata": {},
   "outputs": [],
   "source": [
    "pd.DataFrame.from_dict(dic, 'index').to_csv('Vloss.csv')"
   ]
  },
  {
   "cell_type": "code",
   "execution_count": 12,
   "metadata": {},
   "outputs": [],
   "source": [
    "Vloss = pd.read_csv('Vloss.csv')"
   ]
  },
  {
   "cell_type": "code",
   "execution_count": 17,
   "metadata": {},
   "outputs": [
    {
     "data": {
      "text/plain": [
       "(297, 2)"
      ]
     },
     "execution_count": 17,
     "metadata": {},
     "output_type": "execute_result"
    }
   ],
   "source": [
    "Vloss.shape"
   ]
  },
  {
   "cell_type": "code",
   "execution_count": 18,
   "metadata": {},
   "outputs": [],
   "source": [
    "Vlos = dict(zip(Vloss.iloc[:,0].values, Vloss.iloc[:,1].values))"
   ]
  },
  {
   "cell_type": "code",
   "execution_count": 28,
   "metadata": {},
   "outputs": [],
   "source": [
    "unq_source = data['source'].unique()\n",
    "Vnew = dict(zip(unq_source, [0]*len(unq_source)))\n",
    "for sor in unq_source:\n",
    "    Vnew[sor] = Vold - Vlos[sor]"
   ]
  },
  {
   "cell_type": "code",
   "execution_count": 30,
   "metadata": {},
   "outputs": [],
   "source": [
    "with open('Vnew.pickle', 'wb') as f:\n",
    "    pickle.dump(Vnew, f)"
   ]
  },
  {
   "cell_type": "code",
   "execution_count": 7,
   "metadata": {},
   "outputs": [],
   "source": [
    "with open('Vnew.pickle', 'rb') as f:\n",
    "    Vnew = pickle.load(f)"
   ]
  },
  {
   "cell_type": "code",
   "execution_count": 31,
   "metadata": {},
   "outputs": [],
   "source": [
    "X = 0\n",
    "for chan in chains:\n",
    "    if chan[-1] == 1:\n",
    "        X = X + 1"
   ]
  },
  {
   "cell_type": "code",
   "execution_count": 35,
   "metadata": {},
   "outputs": [],
   "source": [
    "CVnew = dict(zip(unq_source, [0]*len(unq_source)))\n",
    "for sor in unq_source:\n",
    "    cur_sum = 0\n",
    "    for chan in chains:\n",
    "        if (chan[-1] == 1) & (sor in chan):\n",
    "            cur_sum = cur_sum + 1\n",
    "    CVnew[sor] = X*(1 - cur_sum/X)"
   ]
  },
  {
   "cell_type": "code",
   "execution_count": 36,
   "metadata": {},
   "outputs": [],
   "source": [
    "with open('CVnew.pickle', 'wb') as f:\n",
    "    pickle.dump(CVnew, f)"
   ]
  },
  {
   "cell_type": "code",
   "execution_count": 8,
   "metadata": {},
   "outputs": [],
   "source": [
    "with open('CVnew.pickle', 'rb') as f:\n",
    "    CVnew = pickle.load(f)"
   ]
  },
  {
   "cell_type": "code",
   "execution_count": 10,
   "metadata": {},
   "outputs": [],
   "source": [
    "unq_source = data['source'].dropna().unique()\n",
    "CPAnew = dict(zip(unq_source, [0]*len(unq_source)))\n",
    "for sor in unq_source:\n",
    "    CPAnew[sor] = Vnew[sor]/CVnew[sor]"
   ]
  },
  {
   "cell_type": "code",
   "execution_count": 21,
   "metadata": {},
   "outputs": [],
   "source": [
    "pd.DataFrame(list(zip(list(CPAnew.values()), list(Vnew.values()), list(CVnew.values()))),\n",
    "             columns = ['CPA', 'Vnew', 'CVnew'], index = unq_source).to_csv('newLabels.csv')"
   ]
  },
  {
   "cell_type": "code",
   "execution_count": 22,
   "metadata": {},
   "outputs": [],
   "source": [
    "unq_user = data['client_id'].unique()"
   ]
  },
  {
   "cell_type": "code",
   "execution_count": 25,
   "metadata": {},
   "outputs": [],
   "source": [
    "session = data[data['client_id'] == unq_user[0]].sort_values(by = 'begin_date')"
   ]
  },
  {
   "cell_type": "code",
   "execution_count": 41,
   "metadata": {},
   "outputs": [
    {
     "data": {
      "text/html": [
       "<div>\n",
       "<style scoped>\n",
       "    .dataframe tbody tr th:only-of-type {\n",
       "        vertical-align: middle;\n",
       "    }\n",
       "\n",
       "    .dataframe tbody tr th {\n",
       "        vertical-align: top;\n",
       "    }\n",
       "\n",
       "    .dataframe thead th {\n",
       "        text-align: right;\n",
       "    }\n",
       "</style>\n",
       "<table border=\"1\" class=\"dataframe\">\n",
       "  <thead>\n",
       "    <tr style=\"text-align: right;\">\n",
       "      <th></th>\n",
       "      <th>session_id</th>\n",
       "      <th>source</th>\n",
       "      <th>begin_date</th>\n",
       "      <th>client_id</th>\n",
       "      <th>is_uniq</th>\n",
       "      <th>is_call</th>\n",
       "    </tr>\n",
       "  </thead>\n",
       "  <tbody>\n",
       "    <tr>\n",
       "      <th>387536</th>\n",
       "      <td>1.162658e+09</td>\n",
       "      <td>metrinfo</td>\n",
       "      <td>2017-12-01 00:25:38</td>\n",
       "      <td>2.837755e+08</td>\n",
       "      <td>0.0</td>\n",
       "      <td>0.0</td>\n",
       "    </tr>\n",
       "    <tr>\n",
       "      <th>434930</th>\n",
       "      <td>1.162658e+09</td>\n",
       "      <td>GA</td>\n",
       "      <td>2017-12-01 00:29:27</td>\n",
       "      <td>2.837755e+08</td>\n",
       "      <td>0.0</td>\n",
       "      <td>0.0</td>\n",
       "    </tr>\n",
       "    <tr>\n",
       "      <th>0</th>\n",
       "      <td>1.162658e+09</td>\n",
       "      <td>(direct)</td>\n",
       "      <td>2017-12-01 00:29:33</td>\n",
       "      <td>2.837755e+08</td>\n",
       "      <td>0.0</td>\n",
       "      <td>1.0</td>\n",
       "    </tr>\n",
       "    <tr>\n",
       "      <th>26952</th>\n",
       "      <td>1.162718e+09</td>\n",
       "      <td>GA</td>\n",
       "      <td>2017-12-01 08:54:14</td>\n",
       "      <td>2.837755e+08</td>\n",
       "      <td>0.0</td>\n",
       "      <td>0.0</td>\n",
       "    </tr>\n",
       "    <tr>\n",
       "      <th>377781</th>\n",
       "      <td>1.163221e+09</td>\n",
       "      <td>GA</td>\n",
       "      <td>2017-12-02 08:23:14</td>\n",
       "      <td>2.837755e+08</td>\n",
       "      <td>0.0</td>\n",
       "      <td>0.0</td>\n",
       "    </tr>\n",
       "    <tr>\n",
       "      <th>347326</th>\n",
       "      <td>1.164529e+09</td>\n",
       "      <td>GA</td>\n",
       "      <td>2017-12-04 19:37:16</td>\n",
       "      <td>2.837755e+08</td>\n",
       "      <td>0.0</td>\n",
       "      <td>0.0</td>\n",
       "    </tr>\n",
       "    <tr>\n",
       "      <th>336901</th>\n",
       "      <td>1.164916e+09</td>\n",
       "      <td>(direct)</td>\n",
       "      <td>2017-12-05 14:50:06</td>\n",
       "      <td>2.837755e+08</td>\n",
       "      <td>0.0</td>\n",
       "      <td>0.0</td>\n",
       "    </tr>\n",
       "    <tr>\n",
       "      <th>334181</th>\n",
       "      <td>1.169356e+09</td>\n",
       "      <td>google</td>\n",
       "      <td>2017-12-14 07:32:20</td>\n",
       "      <td>2.837755e+08</td>\n",
       "      <td>0.0</td>\n",
       "      <td>0.0</td>\n",
       "    </tr>\n",
       "  </tbody>\n",
       "</table>\n",
       "</div>"
      ],
      "text/plain": [
       "          session_id    source          begin_date     client_id  is_uniq  \\\n",
       "387536  1.162658e+09  metrinfo 2017-12-01 00:25:38  2.837755e+08      0.0   \n",
       "434930  1.162658e+09        GA 2017-12-01 00:29:27  2.837755e+08      0.0   \n",
       "0       1.162658e+09  (direct) 2017-12-01 00:29:33  2.837755e+08      0.0   \n",
       "26952   1.162718e+09        GA 2017-12-01 08:54:14  2.837755e+08      0.0   \n",
       "377781  1.163221e+09        GA 2017-12-02 08:23:14  2.837755e+08      0.0   \n",
       "347326  1.164529e+09        GA 2017-12-04 19:37:16  2.837755e+08      0.0   \n",
       "336901  1.164916e+09  (direct) 2017-12-05 14:50:06  2.837755e+08      0.0   \n",
       "334181  1.169356e+09    google 2017-12-14 07:32:20  2.837755e+08      0.0   \n",
       "\n",
       "        is_call  \n",
       "387536      0.0  \n",
       "434930      0.0  \n",
       "0           1.0  \n",
       "26952       0.0  \n",
       "377781      0.0  \n",
       "347326      0.0  \n",
       "336901      0.0  \n",
       "334181      0.0  "
      ]
     },
     "execution_count": 41,
     "metadata": {},
     "output_type": "execute_result"
    }
   ],
   "source": [
    "session"
   ]
  },
  {
   "cell_type": "code",
   "execution_count": 27,
   "metadata": {},
   "outputs": [
    {
     "data": {
      "text/html": [
       "<div>\n",
       "<style scoped>\n",
       "    .dataframe tbody tr th:only-of-type {\n",
       "        vertical-align: middle;\n",
       "    }\n",
       "\n",
       "    .dataframe tbody tr th {\n",
       "        vertical-align: top;\n",
       "    }\n",
       "\n",
       "    .dataframe thead th {\n",
       "        text-align: right;\n",
       "    }\n",
       "</style>\n",
       "<table border=\"1\" class=\"dataframe\">\n",
       "  <thead>\n",
       "    <tr style=\"text-align: right;\">\n",
       "      <th></th>\n",
       "      <th>session_id</th>\n",
       "      <th>source</th>\n",
       "      <th>begin_date</th>\n",
       "      <th>client_id</th>\n",
       "      <th>is_uniq</th>\n",
       "      <th>is_call</th>\n",
       "    </tr>\n",
       "  </thead>\n",
       "  <tbody>\n",
       "    <tr>\n",
       "      <th>387536</th>\n",
       "      <td>1.162658e+09</td>\n",
       "      <td>metrinfo</td>\n",
       "      <td>2017-12-01 00:25:38</td>\n",
       "      <td>2.837755e+08</td>\n",
       "      <td>0.0</td>\n",
       "      <td>0.0</td>\n",
       "    </tr>\n",
       "    <tr>\n",
       "      <th>434930</th>\n",
       "      <td>1.162658e+09</td>\n",
       "      <td>GA</td>\n",
       "      <td>2017-12-01 00:29:27</td>\n",
       "      <td>2.837755e+08</td>\n",
       "      <td>0.0</td>\n",
       "      <td>0.0</td>\n",
       "    </tr>\n",
       "    <tr>\n",
       "      <th>0</th>\n",
       "      <td>1.162658e+09</td>\n",
       "      <td>(direct)</td>\n",
       "      <td>2017-12-01 00:29:33</td>\n",
       "      <td>2.837755e+08</td>\n",
       "      <td>0.0</td>\n",
       "      <td>1.0</td>\n",
       "    </tr>\n",
       "  </tbody>\n",
       "</table>\n",
       "</div>"
      ],
      "text/plain": [
       "          session_id    source          begin_date     client_id  is_uniq  \\\n",
       "387536  1.162658e+09  metrinfo 2017-12-01 00:25:38  2.837755e+08      0.0   \n",
       "434930  1.162658e+09        GA 2017-12-01 00:29:27  2.837755e+08      0.0   \n",
       "0       1.162658e+09  (direct) 2017-12-01 00:29:33  2.837755e+08      0.0   \n",
       "\n",
       "        is_call  \n",
       "387536      0.0  \n",
       "434930      0.0  \n",
       "0           1.0  "
      ]
     },
     "execution_count": 27,
     "metadata": {},
     "output_type": "execute_result"
    }
   ],
   "source": [
    "split_date = session[session['is_call'] == 1]['begin_date']\n",
    "session[session['begin_date'] <= split_date[0]]"
   ]
  },
  {
   "cell_type": "code",
   "execution_count": 28,
   "metadata": {},
   "outputs": [
    {
     "data": {
      "text/html": [
       "<div>\n",
       "<style scoped>\n",
       "    .dataframe tbody tr th:only-of-type {\n",
       "        vertical-align: middle;\n",
       "    }\n",
       "\n",
       "    .dataframe tbody tr th {\n",
       "        vertical-align: top;\n",
       "    }\n",
       "\n",
       "    .dataframe thead th {\n",
       "        text-align: right;\n",
       "    }\n",
       "</style>\n",
       "<table border=\"1\" class=\"dataframe\">\n",
       "  <thead>\n",
       "    <tr style=\"text-align: right;\">\n",
       "      <th></th>\n",
       "      <th>session_id</th>\n",
       "      <th>source</th>\n",
       "      <th>begin_date</th>\n",
       "      <th>client_id</th>\n",
       "      <th>is_uniq</th>\n",
       "      <th>is_call</th>\n",
       "    </tr>\n",
       "  </thead>\n",
       "  <tbody>\n",
       "    <tr>\n",
       "      <th>26952</th>\n",
       "      <td>1.162718e+09</td>\n",
       "      <td>GA</td>\n",
       "      <td>2017-12-01 08:54:14</td>\n",
       "      <td>2.837755e+08</td>\n",
       "      <td>0.0</td>\n",
       "      <td>0.0</td>\n",
       "    </tr>\n",
       "    <tr>\n",
       "      <th>377781</th>\n",
       "      <td>1.163221e+09</td>\n",
       "      <td>GA</td>\n",
       "      <td>2017-12-02 08:23:14</td>\n",
       "      <td>2.837755e+08</td>\n",
       "      <td>0.0</td>\n",
       "      <td>0.0</td>\n",
       "    </tr>\n",
       "    <tr>\n",
       "      <th>347326</th>\n",
       "      <td>1.164529e+09</td>\n",
       "      <td>GA</td>\n",
       "      <td>2017-12-04 19:37:16</td>\n",
       "      <td>2.837755e+08</td>\n",
       "      <td>0.0</td>\n",
       "      <td>0.0</td>\n",
       "    </tr>\n",
       "    <tr>\n",
       "      <th>336901</th>\n",
       "      <td>1.164916e+09</td>\n",
       "      <td>(direct)</td>\n",
       "      <td>2017-12-05 14:50:06</td>\n",
       "      <td>2.837755e+08</td>\n",
       "      <td>0.0</td>\n",
       "      <td>0.0</td>\n",
       "    </tr>\n",
       "    <tr>\n",
       "      <th>334181</th>\n",
       "      <td>1.169356e+09</td>\n",
       "      <td>google</td>\n",
       "      <td>2017-12-14 07:32:20</td>\n",
       "      <td>2.837755e+08</td>\n",
       "      <td>0.0</td>\n",
       "      <td>0.0</td>\n",
       "    </tr>\n",
       "  </tbody>\n",
       "</table>\n",
       "</div>"
      ],
      "text/plain": [
       "          session_id    source          begin_date     client_id  is_uniq  \\\n",
       "26952   1.162718e+09        GA 2017-12-01 08:54:14  2.837755e+08      0.0   \n",
       "377781  1.163221e+09        GA 2017-12-02 08:23:14  2.837755e+08      0.0   \n",
       "347326  1.164529e+09        GA 2017-12-04 19:37:16  2.837755e+08      0.0   \n",
       "336901  1.164916e+09  (direct) 2017-12-05 14:50:06  2.837755e+08      0.0   \n",
       "334181  1.169356e+09    google 2017-12-14 07:32:20  2.837755e+08      0.0   \n",
       "\n",
       "        is_call  \n",
       "26952       0.0  \n",
       "377781      0.0  \n",
       "347326      0.0  \n",
       "336901      0.0  \n",
       "334181      0.0  "
      ]
     },
     "execution_count": 28,
     "metadata": {},
     "output_type": "execute_result"
    }
   ],
   "source": [
    "session[session['begin_date'] > split_date[0]]"
   ]
  },
  {
   "cell_type": "code",
   "execution_count": 40,
   "metadata": {},
   "outputs": [
    {
     "data": {
      "text/plain": [
       "['metrinfo', 'GA', '(direct)', 1]"
      ]
     },
     "execution_count": 40,
     "metadata": {},
     "output_type": "execute_result"
    }
   ],
   "source": [
    "list(chains[0])"
   ]
  },
  {
   "cell_type": "code",
   "execution_count": 39,
   "metadata": {},
   "outputs": [
    {
     "data": {
      "text/plain": [
       "['metrinfo', 'GA', '(direct)', 'GA', 'GA', 'GA', '(direct)', 'google', 0]"
      ]
     },
     "execution_count": 39,
     "metadata": {},
     "output_type": "execute_result"
    }
   ],
   "source": [
    "list(chains[1])"
   ]
  },
  {
   "cell_type": "code",
   "execution_count": 12,
   "metadata": {},
   "outputs": [],
   "source": [
    "sort = {k: v for k, v in sorted(CPAnew.items(), key=lambda item: item[1])}"
   ]
  },
  {
   "cell_type": "code",
   "execution_count": 15,
   "metadata": {},
   "outputs": [
    {
     "data": {
      "text/plain": [
       "{'youtube.com': 204.95278396436527,\n",
       " 'ispanskie.ru': 205.06455921638468,\n",
       " 'novostroy-m.ru': 205.07747105966163,\n",
       " 'criteo': 205.0792520035619,\n",
       " 'rambler': 205.08370436331256}"
      ]
     },
     "execution_count": 15,
     "metadata": {},
     "output_type": "execute_result"
    }
   ],
   "source": [
    "{k: v for k, v in list(sort.items())[:5]}"
   ]
  },
  {
   "cell_type": "code",
   "execution_count": 16,
   "metadata": {},
   "outputs": [
    {
     "data": {
      "text/plain": [
       "{'YDzb': 212.26245387453875,\n",
       " 'yandex': 214.94948550046772,\n",
       " 'GA': 285.527795128045,\n",
       " '(direct)': 291.72304712717886,\n",
       " 'YD': 345.34890730972114}"
      ]
     },
     "execution_count": 16,
     "metadata": {},
     "output_type": "execute_result"
    }
   ],
   "source": [
    "{k: v for k, v in list(sort.items())[-5:]}"
   ]
  },
  {
   "cell_type": "code",
   "execution_count": 17,
   "metadata": {},
   "outputs": [
    {
     "data": {
      "text/plain": [
       "array(['metrinfo', 'GA', '(direct)', 1], dtype=object)"
      ]
     },
     "execution_count": 17,
     "metadata": {},
     "output_type": "execute_result"
    }
   ],
   "source": [
    "chains[0]"
   ]
  },
  {
   "cell_type": "code",
   "execution_count": 8,
   "metadata": {},
   "outputs": [],
   "source": [
    "exmp = ['(direct)', '(direct)', 'GA', '(direct)', '(direct)', '(direct)', 'GA', 'GA', '(direct)', 'google', 1, 'google', 0]"
   ]
  },
  {
   "cell_type": "code",
   "execution_count": 11,
   "metadata": {},
   "outputs": [],
   "source": [
    "transform_matrix = np.zeros((5,5))"
   ]
  },
  {
   "cell_type": "code",
   "execution_count": 22,
   "metadata": {},
   "outputs": [],
   "source": [
    "transform_matrix[0][0] = 0\n",
    "transform_matrix[0][1] = 0.5\n",
    "transform_matrix[0][2] = 0.5\n",
    "\n",
    "transform_matrix[1][0] = 1\n",
    "transform_matrix[1][1] = 0\n",
    "\n",
    "transform_matrix[2][3] = 0.5\n",
    "transform_matrix[2][4] = 0.5\n",
    "\n",
    "transform_matrix[3][3] = 1\n",
    "transform_matrix[4][4] = 1"
   ]
  },
  {
   "cell_type": "code",
   "execution_count": 27,
   "metadata": {},
   "outputs": [
    {
     "data": {
      "text/plain": [
       "array([[0. , 0.5, 0.5, 0. , 0. ],\n",
       "       [1. , 0. , 0. , 0. , 0. ],\n",
       "       [0. , 0. , 0. , 0.5, 0.5],\n",
       "       [0. , 0. , 0. , 1. , 0. ],\n",
       "       [0. , 0. , 0. , 0. , 1. ]])"
      ]
     },
     "execution_count": 27,
     "metadata": {},
     "output_type": "execute_result"
    }
   ],
   "source": [
    "transform_matrix"
   ]
  },
  {
   "cell_type": "code",
   "execution_count": 28,
   "metadata": {},
   "outputs": [],
   "source": [
    "mist = []\n",
    "k = transform_matrix.copy()\n",
    "for i in range(10):\n",
    "    mist.append(k[0][-2])\n",
    "    k = np.dot(k, k)"
   ]
  },
  {
   "cell_type": "code",
   "execution_count": 30,
   "metadata": {},
   "outputs": [],
   "source": [
    "import matplotlib. pyplot as plt"
   ]
  },
  {
   "cell_type": "code",
   "execution_count": 33,
   "metadata": {},
   "outputs": [
    {
     "data": {
      "image/png": "[encoded data removed]",
      "text/plain": [
       "<Figure size 432x288 with 1 Axes>"
      ]
     },
     "metadata": {
      "needs_background": "light"
     },
     "output_type": "display_data"
    }
   ],
   "source": [
    "plt.plot(mist, label = 'предсказанное значение')\n",
    "plt.plot([0.5]*len(mist), label = 'точное значение')\n",
    "plt.xlabel('шаг')\n",
    "plt.ylabel('значение вероятности')\n",
    "plt.legend();"
   ]
  },
  {
   "cell_type": "code",
   "execution_count": 36,
   "metadata": {},
   "outputs": [],
   "source": [
    "res = []\n",
    "for one in mist:\n",
    "    res.append(0.5 - one)"
   ]
  },
  {
   "cell_type": "code",
   "execution_count": 39,
   "metadata": {},
   "outputs": [
    {
     "data": {
      "image/png": "[encoded data removed]",
      "text/plain": [
       "<Figure size 432x288 with 1 Axes>"
      ]
     },
     "metadata": {
      "needs_background": "light"
     },
     "output_type": "display_data"
    }
   ],
   "source": [
    "plt.plot(res)\n",
    "#plt.plot([0.5]*len(mist), label = 'точное значение')\n",
    "plt.xlabel('шаг')\n",
    "plt.ylabel('размер ошибки');"
   ]
  },
  {
   "cell_type": "code",
   "execution_count": 9,
   "metadata": {},
   "outputs": [],
   "source": [
    "unq_source = data['source'].dropna().unique()\n",
    "move_count = {}\n",
    "for i in unq_source:\n",
    "    for j in unq_source:\n",
    "        move_count[(i,j)] = 0\n",
    "    move_count[(i,1)] = 0\n",
    "    move_count[(i,0)] = 0"
   ]
  },
  {
   "cell_type": "code",
   "execution_count": 10,
   "metadata": {},
   "outputs": [],
   "source": [
    "for chan in chains:\n",
    "    if chan[-1] == 1:\n",
    "        move_count[(chan[0], 1)] = move_count[(chan[0], 1)] + 1\n",
    "    else:\n",
    "        start = chan[0]\n",
    "        for i in range(1,len(chan)):\n",
    "            move_count[(start, chan[i])] = move_count[(start, chan[i])] + 1\n",
    "            start = chan[i]"
   ]
  },
  {
   "cell_type": "code",
   "execution_count": 11,
   "metadata": {},
   "outputs": [],
   "source": [
    "start = 0\n",
    "val = list(move_count.values())\n",
    "matrix = []\n",
    "for i in range(298):\n",
    "    matrix.append(val[start:start + 298])\n",
    "    start = start + 298"
   ]
  },
  {
   "cell_type": "code",
   "execution_count": 12,
   "metadata": {},
   "outputs": [],
   "source": [
    "matrix[-2] = [0]*298\n",
    "matrix[-2][-2] = 1\n",
    "matrix[-1] = [0]*298\n",
    "matrix[-1][-1] = 1"
   ]
  },
  {
   "cell_type": "code",
   "execution_count": 13,
   "metadata": {},
   "outputs": [],
   "source": [
    "np_matrix = np.array(matrix)"
   ]
  },
  {
   "cell_type": "code",
   "execution_count": 14,
   "metadata": {},
   "outputs": [
    {
     "data": {
      "text/plain": [
       "array([[ 31353,  13141,      7, ...,      0,    532,  60247],\n",
       "       [ 13985,  51560,     25, ...,      0,    516, 104675],\n",
       "       [    20,     38,     69, ...,      0,     40,   2920],\n",
       "       ...,\n",
       "       [     0,      0,      0, ...,      0,      0,      1],\n",
       "       [     0,      0,      0, ...,      0,      1,      0],\n",
       "       [     0,      0,      0, ...,      0,      0,      1]])"
      ]
     },
     "execution_count": 14,
     "metadata": {},
     "output_type": "execute_result"
    }
   ],
   "source": [
    "np_matrix"
   ]
  },
  {
   "cell_type": "code",
   "execution_count": 15,
   "metadata": {},
   "outputs": [],
   "source": [
    "for i in range(296):\n",
    "    np_matrix[i][i] = 0"
   ]
  },
  {
   "cell_type": "code",
   "execution_count": 16,
   "metadata": {},
   "outputs": [],
   "source": [
    "prob_matrix = (np_matrix / np.sum(np_matrix, axis = 1)[:,np.newaxis])"
   ]
  },
  {
   "cell_type": "code",
   "execution_count": 17,
   "metadata": {},
   "outputs": [],
   "source": [
    "for _ in range(10):\n",
    "    prob_matrix = np.dot(prob_matrix, prob_matrix)"
   ]
  },
  {
   "cell_type": "code",
   "execution_count": 18,
   "metadata": {},
   "outputs": [],
   "source": [
    "prob_list = []\n",
    "for i in range(len(unq_source)):\n",
    "    prob_list.append(prob_matrix[i][-2])\n",
    "prob_dic = dict(zip(unq_source, prob_list))"
   ]
  },
  {
   "cell_type": "code",
   "execution_count": 20,
   "metadata": {},
   "outputs": [],
   "source": [
    "sort = {k: v for k, v in sorted(prob_dic.items(), key=lambda item: item[1])}"
   ]
  },
  {
   "cell_type": "code",
   "execution_count": 21,
   "metadata": {},
   "outputs": [
    {
     "data": {
      "text/plain": [
       "{'org.telegram.messenger': 0.05420619245303348,\n",
       " 'link.2gis.ru': 0.07038912079544767,\n",
       " 'bing.com': 0.07628910114156133,\n",
       " 'cian.ru': 0.08188558078156173,\n",
       " 'dommsk': 0.2024098172301339}"
      ]
     },
     "execution_count": 21,
     "metadata": {},
     "output_type": "execute_result"
    }
   ],
   "source": [
    "{k: sort[k] for k in list(sort)[-5:]}"
   ]
  },
  {
   "cell_type": "code",
   "execution_count": 22,
   "metadata": {},
   "outputs": [
    {
     "name": "stdout",
     "output_type": "stream",
     "text": [
      "YD:  0.008830959763266909\n",
      "(direct):  0.008181287662503716\n",
      "GA:  0.005373793620125026\n",
      "yandex:  0.012049086150669434\n",
      "google:  0.012051805242105727\n",
      "YDzb:  0.004623023206154886\n"
     ]
    }
   ],
   "source": [
    "print('YD: ', sort['YD'])\n",
    "print('(direct): ', sort['(direct)'])\n",
    "print('GA: ',sort['GA'])\n",
    "print('yandex: ', sort['yandex'])\n",
    "print('google: ', sort['google'])\n",
    "print('YDzb: ', sort['YDzb'])"
   ]
  },
  {
   "cell_type": "code",
   "execution_count": null,
   "metadata": {},
   "outputs": [],
   "source": []
  }
 ],
 "metadata": {
  "kernelspec": {
   "display_name": "Python 3",
   "language": "python",
   "name": "python3"
  },
  "language_info": {
   "codemirror_mode": {
    "name": "ipython",
    "version": 3
   },
   "file_extension": ".py",
   "mimetype": "text/x-python",
   "name": "python",
   "nbconvert_exporter": "python",
   "pygments_lexer": "ipython3",
   "version": "3.7.6"
  }
 },
 "nbformat": 4,
 "nbformat_minor": 4
}
